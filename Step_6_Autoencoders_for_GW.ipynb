{
  "nbformat": 4,
  "nbformat_minor": 0,
  "metadata": {
    "colab": {
      "provenance": [],
      "toc_visible": true,
      "gpuType": "T4",
      "collapsed_sections": [
        "st3QjZwnPSs8"
      ],
      "authorship_tag": "ABX9TyPBv7mCdtXbYzF9uohTzw3d",
      "include_colab_link": true
    },
    "kernelspec": {
      "name": "python3",
      "display_name": "Python 3"
    },
    "language_info": {
      "name": "python"
    },
    "accelerator": "GPU"
  },
  "cells": [
    {
      "cell_type": "markdown",
      "metadata": {
        "id": "view-in-github",
        "colab_type": "text"
      },
      "source": [
        "<a href=\"https://colab.research.google.com/github/shufan6011/ML-Projects/blob/main/Step_6_Autoencoders_for_GW.ipynb\" target=\"_parent\"><img src=\"https://colab.research.google.com/assets/colab-badge.svg\" alt=\"Open In Colab\"/></a>"
      ]
    },
    {
      "cell_type": "code",
      "source": [
        "# Update:\n",
        "# Use GPU instead of CPU for model training"
      ],
      "metadata": {
        "id": "DRV2KeFQyHFa"
      },
      "execution_count": null,
      "outputs": []
    },
    {
      "cell_type": "markdown",
      "source": [
        "# Data Preprocessing"
      ],
      "metadata": {
        "id": "FzL41q-39psp"
      }
    },
    {
      "cell_type": "code",
      "execution_count": null,
      "metadata": {
        "id": "95dylknOM1YX"
      },
      "outputs": [],
      "source": [
        "import numpy as np\n",
        "import pandas as pd\n",
        "import requests, os\n",
        "import matplotlib.pyplot as plt\n",
        "from scipy.signal import butter, filtfilt, spectrogram\n",
        "from sklearn.preprocessing import StandardScaler\n",
        "import tensorflow as tf\n",
        "from tensorflow.keras.models import Sequential, load_model\n",
        "from tensorflow.keras.layers import Conv1D, MaxPooling1D, Conv2D, MaxPooling2D, Flatten, Dense, Dropout\n",
        "from sklearn.model_selection import train_test_split\n"
      ]
    },
    {
      "cell_type": "code",
      "source": [
        "# Go to https://gwosc.org\n",
        "# Find the information required below (GPS time & detector)\n"
      ],
      "metadata": {
        "id": "bzbKy-scjhEl"
      },
      "execution_count": null,
      "outputs": []
    },
    {
      "cell_type": "code",
      "execution_count": null,
      "metadata": {
        "id": "nOWxRKp9QYKj"
      },
      "outputs": [],
      "source": [
        "# Set a GPS time:\n",
        "t_start = 1126259462.4\n",
        "t_end = 1126259462.4 # For specific events, make t_end the same as t_start\n",
        "\n",
        "# Choose detector as H1, L1, or V1\n",
        "detector = 'H1'\n"
      ]
    },
    {
      "cell_type": "code",
      "execution_count": null,
      "metadata": {
        "id": "3q31hDw3QYKn",
        "outputId": "e83a0095-a761-4253-cfc7-baab8bda08df",
        "colab": {
          "base_uri": "https://localhost:8080/"
        }
      },
      "outputs": [
        {
          "output_type": "stream",
          "name": "stdout",
          "text": [
            "\u001b[2K     \u001b[90m━━━━━━━━━━━━━━━━━━━━━━━━━━━━━━━━━━━━━━━━\u001b[0m \u001b[32m1.4/1.4 MB\u001b[0m \u001b[31m9.6 MB/s\u001b[0m eta \u001b[36m0:00:00\u001b[0m\n",
            "\u001b[2K     \u001b[90m━━━━━━━━━━━━━━━━━━━━━━━━━━━━━━━━━━━━━━━━\u001b[0m \u001b[32m295.0/295.0 kB\u001b[0m \u001b[31m14.5 MB/s\u001b[0m eta \u001b[36m0:00:00\u001b[0m\n",
            "\u001b[2K     \u001b[90m━━━━━━━━━━━━━━━━━━━━━━━━━━━━━━━━━━━━━━━━\u001b[0m \u001b[32m45.5/45.5 kB\u001b[0m \u001b[31m4.4 MB/s\u001b[0m eta \u001b[36m0:00:00\u001b[0m\n",
            "\u001b[2K     \u001b[90m━━━━━━━━━━━━━━━━━━━━━━━━━━━━━━━━━━━━━━━━\u001b[0m \u001b[32m51.0/51.0 kB\u001b[0m \u001b[31m3.1 MB/s\u001b[0m eta \u001b[36m0:00:00\u001b[0m\n",
            "\u001b[?25h  Preparing metadata (setup.py) ... \u001b[?25l\u001b[?25hdone\n",
            "  Building wheel for ligo-segments (setup.py) ... \u001b[?25l\u001b[?25hdone\n",
            "\u001b[2K     \u001b[90m━━━━━━━━━━━━━━━━━━━━━━━━━━━━━━━━━━━━━━━━\u001b[0m \u001b[32m8.3/8.3 MB\u001b[0m \u001b[31m42.5 MB/s\u001b[0m eta \u001b[36m0:00:00\u001b[0m\n",
            "\u001b[2K     \u001b[90m━━━━━━━━━━━━━━━━━━━━━━━━━━━━━━━━━━━━━━━━\u001b[0m \u001b[32m9.9/9.9 MB\u001b[0m \u001b[31m6.1 MB/s\u001b[0m eta \u001b[36m0:00:00\u001b[0m\n",
            "\u001b[2K     \u001b[90m━━━━━━━━━━━━━━━━━━━━━━━━━━━━━━━━━━━━━━━━\u001b[0m \u001b[32m1.9/1.9 MB\u001b[0m \u001b[31m76.3 MB/s\u001b[0m eta \u001b[36m0:00:00\u001b[0m\n",
            "\u001b[?25h"
          ]
        }
      ],
      "source": [
        "%config InlineBackend.figure_format = 'retina'\n",
        "\n",
        "try:\n",
        "    from gwpy.timeseries import TimeSeries\n",
        "except:\n",
        "    ! pip install -q \"gwpy==3.0.8\"\n",
        "    ! pip install -q \"matplotlib==3.9.0\"\n",
        "    ! pip install -q \"astropy==6.1.0\"\n",
        "    from gwpy.timeseries import TimeSeries\n"
      ]
    },
    {
      "cell_type": "code",
      "execution_count": null,
      "metadata": {
        "id": "AhembQ-1QYKo",
        "outputId": "f8dfce5f-259d-4967-8955-6b0540f12f3d",
        "colab": {
          "base_uri": "https://localhost:8080/"
        }
      },
      "outputs": [
        {
          "output_type": "stream",
          "name": "stdout",
          "text": [
            "Downloading:  http://gwosc.org/eventapi/json/GWTC-1-confident/GW150914/v3/H-H1_GWOSC_4KHZ_R1-1126257415-4096.hdf5\n"
          ]
        }
      ],
      "source": [
        "from gwosc.locate import get_urls\n",
        "url = get_urls(detector, t_start, t_end)[-1]\n",
        "\n",
        "print('Downloading: ' , url)\n",
        "fn = os.path.basename(url)\n",
        "with open(fn,'wb') as strainfile:\n",
        "    straindata = requests.get(url)\n",
        "    strainfile.write(straindata.content)\n"
      ]
    },
    {
      "cell_type": "code",
      "execution_count": null,
      "metadata": {
        "id": "8WB3QLymQYKq"
      },
      "outputs": [],
      "source": [
        "# Read strain data\n",
        "strain = TimeSeries.read(fn,format='hdf5.gwosc')\n",
        "\n",
        "# Examine an interval of the event closely\n",
        "# center = int(t_start)\n",
        "# strain = strain.crop(center-0.2, center+0.1)\n",
        "\n",
        "# Extract timestamps and strain values\n",
        "timestamps = strain.times.value\n",
        "strain_values = strain.value\n",
        "\n",
        "# Store the data in a Pandas DataFrame\n",
        "data = pd.DataFrame({\n",
        "    'time': timestamps,\n",
        "    'strain': strain_values\n",
        "})\n"
      ]
    },
    {
      "cell_type": "markdown",
      "source": [
        "## Handling Missing Values"
      ],
      "metadata": {
        "id": "st3QjZwnPSs8"
      }
    },
    {
      "cell_type": "code",
      "source": [
        "# Drop rows with missing values\n",
        "data = data.dropna()\n",
        "\n",
        "print(\"\\nMissing values after cleaning:\")\n",
        "print(data.isnull().sum())\n"
      ],
      "metadata": {
        "id": "qgcP-cYXNKzz",
        "outputId": "572003e6-fdeb-424b-ce9e-e1bb20bbd156",
        "colab": {
          "base_uri": "https://localhost:8080/"
        }
      },
      "execution_count": null,
      "outputs": [
        {
          "output_type": "stream",
          "name": "stdout",
          "text": [
            "\n",
            "Missing values after cleaning:\n",
            "time      0\n",
            "strain    0\n",
            "dtype: int64\n"
          ]
        }
      ]
    },
    {
      "cell_type": "markdown",
      "source": [
        "## Data Noise Filtering"
      ],
      "metadata": {
        "id": "o9GWFMK9PBtx"
      }
    },
    {
      "cell_type": "code",
      "source": [
        "# Band-pass filter function\n",
        "def butter_bandpass(lowcut, highcut, fs, order=5):\n",
        "    try:\n",
        "        nyq = 0.5 * fs\n",
        "        low = lowcut / nyq\n",
        "        high = highcut / nyq\n",
        "        b, a = butter(order, [low, high], btype='band')\n",
        "        return b, a\n",
        "    except Exception as e:\n",
        "        print(f\"An error occurred: {e}\")\n",
        "        return []\n",
        "\n",
        "def bandpass_filter(data, lowcut, highcut, fs, order=5):\n",
        "    try:\n",
        "        b, a = butter_bandpass(lowcut, highcut, fs, order=order)\n",
        "        y = filtfilt(b, a, data)\n",
        "        return y\n",
        "    except Exception as e:\n",
        "        print(f\"An error occurred: {e}\")\n",
        "        return []\n",
        "\n",
        "# Filter parameters\n",
        "lowcut = 20  # Low cutoff frequency (Hz)\n",
        "highcut = 500  # High cutoff frequency (Hz)\n",
        "\n",
        "# Apply band-pass filter to the strain data\n",
        "data['strain'] = bandpass_filter(data['strain'], lowcut, highcut, 4096)\n"
      ],
      "metadata": {
        "id": "zQOeTtFfNkDb"
      },
      "execution_count": null,
      "outputs": []
    },
    {
      "cell_type": "markdown",
      "source": [
        "## Data Normalization"
      ],
      "metadata": {
        "id": "VZjAUoRqft9_"
      }
    },
    {
      "cell_type": "code",
      "source": [
        "# Normalize the filtered strain data\n",
        "scaler = StandardScaler()\n",
        "data['strain'] = scaler.fit_transform(data[['strain']])\n"
      ],
      "metadata": {
        "id": "OTmnUun1fwK5"
      },
      "execution_count": null,
      "outputs": []
    },
    {
      "cell_type": "markdown",
      "source": [
        "## Data Inspection"
      ],
      "metadata": {
        "id": "qrpSAW3aPNzk"
      }
    },
    {
      "cell_type": "code",
      "source": [
        "# Inspect the first few rows\n",
        "print(\"First few rows of the data:\")\n",
        "print(data.head())\n",
        "\n",
        "# Inspect col headers\n",
        "print(\"\\nCol headers:\")\n",
        "print(data.columns)\n",
        "\n",
        "# Summary stats\n",
        "print(\"\\nSummary stats:\")\n",
        "print(data.describe())\n",
        "\n",
        "# Check for missing vals\n",
        "print(\"\\nMissing vals in each col:\")\n",
        "print(data.isnull().sum())\n",
        "\n",
        "# Check the sampling frequency\n",
        "print(f\"\\nSampling frequency: {strain.sample_rate} Hz\")\n",
        "fs = 4096 # Change this if sampling frequency is different\n"
      ],
      "metadata": {
        "id": "QTyLuzDQJxfZ",
        "outputId": "87550ef1-ced9-4d16-eb8d-74caf7e9b749",
        "colab": {
          "base_uri": "https://localhost:8080/"
        }
      },
      "execution_count": null,
      "outputs": [
        {
          "output_type": "stream",
          "name": "stdout",
          "text": [
            "First few rows of the data:\n",
            "           time    strain\n",
            "0  1.126257e+09 -2.509169\n",
            "1  1.126257e+09  0.070279\n",
            "2  1.126257e+09  2.209692\n",
            "3  1.126257e+09  3.618610\n",
            "4  1.126257e+09  4.256310\n",
            "\n",
            "Col headers:\n",
            "Index(['time', 'strain'], dtype='object')\n",
            "\n",
            "Summary stats:\n",
            "               time        strain\n",
            "count  1.677722e+07  1.677722e+07\n",
            "mean   1.126259e+09  3.306817e-17\n",
            "std    1.182413e+03  1.000000e+00\n",
            "min    1.126257e+09 -3.686865e+00\n",
            "25%    1.126258e+09 -7.088866e-01\n",
            "50%    1.126259e+09  1.167620e-03\n",
            "75%    1.126260e+09  7.087774e-01\n",
            "max    1.126262e+09  4.284805e+00\n",
            "\n",
            "Missing vals in each col:\n",
            "time      0\n",
            "strain    0\n",
            "dtype: int64\n",
            "Sampling frequency: 4096.0 Hz Hz\n"
          ]
        }
      ]
    },
    {
      "cell_type": "markdown",
      "source": [
        "# 1D CNN"
      ],
      "metadata": {
        "id": "JrEtLCfYiW-K"
      }
    },
    {
      "cell_type": "markdown",
      "source": [
        "## Segment Labeling"
      ],
      "metadata": {
        "id": "avCFKI1-fKEL"
      }
    },
    {
      "cell_type": "code",
      "source": [
        "# Convert the preprocessed data back to original strain\n",
        "scaler.inverse_transform(data)\n",
        "\n",
        "# Window Size\n",
        "window_size = 2  # in seconds, adjust as needed\n",
        "\n",
        "# Resample strain to desired sample rate (if necessary)\n",
        "strain = strain.resample(fs)\n",
        "\n",
        "# Define event time and window half-length\n",
        "event_time = t_start  # Adjust as needed\n",
        "\n",
        "# Create segments and labels\n",
        "segments = []\n",
        "labels = []\n",
        "\n",
        "for i in range(0, len(strain) - int(window_size * fs), int(window_size * fs)):\n",
        "    segment = strain[i:i + int(window_size * fs)]\n",
        "    segments.append(segment.value)\n",
        "\n",
        "    # Label based on event presence\n",
        "    if (segment.times.value[0] <= event_time <= segment.times.value[-1]):\n",
        "        labels.append(1)  # Event present\n",
        "    else:\n",
        "        labels.append(0)  # No event\n",
        "\n",
        "# Convert to numpy arrays\n",
        "segments = np.array(segments)\n",
        "labels = np.array(labels)\n",
        "\n",
        "print(f\"Segments shape: {segments.shape}\")\n",
        "print(f\"Labels shape: {labels.shape}\")\n",
        "\n",
        "# Verify segments and labels\n",
        "print(\"First few segments:\")\n",
        "print(segments[:2])\n"
      ],
      "metadata": {
        "id": "wsFrGTH2fKEM"
      },
      "execution_count": null,
      "outputs": []
    },
    {
      "cell_type": "markdown",
      "source": [
        "## Data Preparation (time-series data)"
      ],
      "metadata": {
        "id": "UtFOkh04eBvA"
      }
    },
    {
      "cell_type": "code",
      "source": [
        "# Reshape segments for 1D CNN\n",
        "segments = segments.reshape((segments.shape[0], segments.shape[1], 1))\n",
        "\n",
        "print(f\"Reshaped segments shape: {segments.shape}\")\n"
      ],
      "metadata": {
        "colab": {
          "base_uri": "https://localhost:8080/"
        },
        "id": "Rp-ijCrde0kx",
        "outputId": "372b44b7-31ee-40c0-dbe2-8ab8bc1d46e1"
      },
      "execution_count": null,
      "outputs": [
        {
          "output_type": "stream",
          "name": "stdout",
          "text": [
            "Reshaped segments shape: (2047, 8192, 1)\n"
          ]
        }
      ]
    },
    {
      "cell_type": "code",
      "source": [
        "# Split the data into training and test sets\n",
        "X_train, X_test, y_train, y_test = train_test_split(segments, labels, test_size=0.2, random_state=42)\n"
      ],
      "metadata": {
        "id": "MqK55ujwKe5H"
      },
      "execution_count": null,
      "outputs": []
    },
    {
      "cell_type": "markdown",
      "source": [
        "## Data Augmentation"
      ],
      "metadata": {
        "id": "NaOSgzTgkly3"
      }
    },
    {
      "cell_type": "code",
      "source": [
        "def augment_data(data, labels):\n",
        "    try:\n",
        "        augmented_data = []\n",
        "        augmented_labels = []\n",
        "        for d, l in zip(data, labels):\n",
        "            augmented_data.append(d)\n",
        "            augmented_labels.append(l)\n",
        "            augmented_data.append(np.flip(d, axis=0))\n",
        "            augmented_labels.append(l)\n",
        "            noise = np.random.normal(0, 0.1, d.shape)\n",
        "            augmented_data.append(d + noise)\n",
        "            augmented_labels.append(l)\n",
        "        return np.array(augmented_data), np.array(augmented_labels)\n",
        "    except Exception as e:\n",
        "        print(f\"An error occurred: {e}\")\n",
        "        return []\n",
        "\n",
        "X_train_aug, y_train_aug = augment_data(X_train, y_train)\n",
        "\n",
        "print(f\"Original training data shape: {X_train.shape}\")\n",
        "print(f\"Augmented training data shape: {X_train_aug.shape}\")\n"
      ],
      "metadata": {
        "id": "3us6ddy7koxh",
        "colab": {
          "base_uri": "https://localhost:8080/"
        },
        "outputId": "cac7250b-385b-435a-cbe2-5ef3ac09ea65"
      },
      "execution_count": null,
      "outputs": [
        {
          "output_type": "stream",
          "name": "stdout",
          "text": [
            "Original training data shape: (1637, 8192, 1)\n",
            "Augmented training data shape: (4911, 8192, 1)\n"
          ]
        }
      ]
    },
    {
      "cell_type": "markdown",
      "source": [
        "## Model Training & Evaluation with Augmented Data"
      ],
      "metadata": {
        "id": "SUiygYr9wXcT"
      }
    },
    {
      "cell_type": "code",
      "source": [
        "# Build the Autoencoder model\n",
        "\n",
        "# Encoder\n",
        "encoder = Sequential([\n",
        "    Conv1D(filters=16, kernel_size=3, activation='relu', input_shape=(segments.shape[1], 1)),\n",
        "    MaxPooling1D(pool_size=2),\n",
        "    Conv1D(filters=32, kernel_size=3, activation='relu'),\n",
        "    MaxPooling1D(pool_size=2),\n",
        "    Conv1D(filters=64, kernel_size=3, activation='relu'),\n",
        "    MaxPooling1D(pool_size=2)\n",
        "])\n",
        "\n",
        "# Bottleneck\n",
        "bottleneck = Sequential([\n",
        "    Flatten(),\n",
        "    Dense(32, activation='relu')\n",
        "])\n",
        "\n",
        "# Decoder\n",
        "decoder = Sequential([\n",
        "    Dense(64 * (segments.shape[1] // 8), activation='relu', input_shape=(32,)),\n",
        "    Reshape((segments.shape[1] // 8, 64)),\n",
        "    UpSampling1D(size=2),\n",
        "    Conv1D(filters=32, kernel_size=3, activation='relu', padding='same'),\n",
        "    UpSampling1D(size=2),\n",
        "    Conv1D(filters=16, kernel_size=3, activation='relu', padding='same'),\n",
        "    UpSampling1D(size=2),\n",
        "    Conv1D(filters=1, kernel_size=3, activation='sigmoid', padding='same')\n",
        "])\n",
        "\n",
        "# Combine Encoder, Bottleneck, and Decoder to form the Autoencoder\n",
        "model = Sequential([encoder, bottleneck, decoder])\n",
        "\n",
        "# Compile the Autoencoder\n",
        "model.compile(optimizer='adam', loss='mse', metrics=['accuracy'])\n",
        "\n",
        "# Train the Autoencoder\n",
        "history = model.fit(X_train_aug, X_train_aug, epochs=10, batch_size=256, validation_data=(X_test, X_test))\n",
        "\n",
        "# Evaluate the model\n",
        "loss, accuracy = model.evaluate(X_test, y_test)\n",
        "print(f\"Test Loss: {loss}, Test Accuracy: {accuracy}\")\n",
        "\n",
        "# Plot training history\n",
        "plt.figure(figsize=(12, 4))\n",
        "plt.subplot(1, 2, 1)\n",
        "plt.plot(history.history['loss'], label='Loss')\n",
        "plt.plot(history.history['val_loss'], label='Val Loss')\n",
        "plt.xlabel('Epoch')\n",
        "plt.ylabel('Loss')\n",
        "plt.legend()\n",
        "plt.title('Training and Validation Loss')\n",
        "\n",
        "plt.subplot(1, 2, 2)\n",
        "plt.plot(history.history['accuracy'], label='Accuracy')\n",
        "plt.plot(history.history['val_accuracy'], label='Val Accuracy')\n",
        "plt.xlabel('Epoch')\n",
        "plt.ylabel('Accuracy')\n",
        "plt.legend()\n",
        "plt.title('Training and Validation Accuracy')\n",
        "\n",
        "plt.show()\n"
      ],
      "metadata": {
        "colab": {
          "base_uri": "https://localhost:8080/",
          "height": 848
        },
        "id": "xb-akVQXwW_1",
        "outputId": "b1cbac1f-30a6-431f-d41b-bc2df1c4166f"
      },
      "execution_count": null,
      "outputs": [
        {
          "output_type": "stream",
          "name": "stdout",
          "text": [
            "Epoch 1/10\n",
            "20/20 [==============================] - 150s 262ms/step - loss: 0.2360 - accuracy: 0.0000e+00 - val_loss: 0.1977 - val_accuracy: 0.0000e+00\n",
            "Epoch 2/10\n",
            "20/20 [==============================] - 3s 164ms/step - loss: 0.1151 - accuracy: 0.0000e+00 - val_loss: 4.4735e-07 - val_accuracy: 0.0000e+00\n",
            "Epoch 3/10\n",
            "20/20 [==============================] - 3s 159ms/step - loss: 0.0033 - accuracy: 0.0000e+00 - val_loss: 8.1385e-29 - val_accuracy: 0.0000e+00\n",
            "Epoch 4/10\n",
            "20/20 [==============================] - 4s 177ms/step - loss: 0.0033 - accuracy: 0.0000e+00 - val_loss: 1.8269e-36 - val_accuracy: 0.0000e+00\n",
            "Epoch 5/10\n",
            "20/20 [==============================] - 3s 159ms/step - loss: 0.0033 - accuracy: 0.0000e+00 - val_loss: 1.5575e-37 - val_accuracy: 0.0000e+00\n",
            "Epoch 6/10\n",
            "20/20 [==============================] - 3s 156ms/step - loss: 0.0033 - accuracy: 0.0000e+00 - val_loss: 1.2093e-37 - val_accuracy: 0.0000e+00\n",
            "Epoch 7/10\n",
            "20/20 [==============================] - 3s 158ms/step - loss: 0.0033 - accuracy: 0.0000e+00 - val_loss: 1.1722e-37 - val_accuracy: 0.0000e+00\n",
            "Epoch 8/10\n",
            "20/20 [==============================] - 3s 174ms/step - loss: 0.0033 - accuracy: 0.0000e+00 - val_loss: 1.1675e-37 - val_accuracy: 0.0000e+00\n",
            "Epoch 9/10\n",
            "20/20 [==============================] - 3s 157ms/step - loss: 0.0033 - accuracy: 0.0000e+00 - val_loss: 1.1670e-37 - val_accuracy: 0.0000e+00\n",
            "Epoch 10/10\n",
            "20/20 [==============================] - 3s 157ms/step - loss: 0.0033 - accuracy: 0.0000e+00 - val_loss: 1.1670e-37 - val_accuracy: 0.0000e+00\n",
            "13/13 [==============================] - 2s 15ms/step - loss: 6.9752e-38 - accuracy: 1.0000\n",
            "Test Loss: 6.975193479644312e-38, Test Accuracy: 1.0\n"
          ]
        },
        {
          "output_type": "display_data",
          "data": {
            "text/plain": [
              "<Figure size 1200x400 with 2 Axes>"
            ],
            "image/png": "[encoded data removed]"
          },
          "metadata": {
            "image/png": {
              "width": 1023,
              "height": 405
            }
          }
        }
      ]
    },
    {
      "cell_type": "markdown",
      "source": [
        "## Final Product"
      ],
      "metadata": {
        "id": "laI0KcJ6kskp"
      }
    },
    {
      "cell_type": "code",
      "source": [
        "# Save the model (look in the left panel)\n",
        "model.save('gw_1d_cnn_autoencoder.h5')\n",
        "\n",
        "# Load the model (for verification)\n",
        "loaded_model = tf.keras.models.load_model('gw_1d_cnn_autoencoder.h5')\n",
        "\n",
        "# Verify the loaded model by evaluating it on the test set\n",
        "loaded_loss, loaded_accuracy = loaded_model.evaluate(X_test, y_test)\n",
        "print(f\"Loaded Model Test Loss: {loaded_loss}, Loaded Model Test Accuracy: {loaded_accuracy}\")\n"
      ],
      "metadata": {
        "colab": {
          "base_uri": "https://localhost:8080/"
        },
        "id": "BiCFbj8zkwLz",
        "outputId": "652a4fb4-16e5-4bb7-8b1f-c5411e3b0237"
      },
      "execution_count": null,
      "outputs": [
        {
          "output_type": "stream",
          "name": "stdout",
          "text": [
            "13/13 [==============================] - 2s 15ms/step - loss: 6.9752e-38 - accuracy: 1.0000\n",
            "Loaded Model Test Loss: 6.975193479644312e-38, Loaded Model Test Accuracy: 1.0\n"
          ]
        }
      ]
    },
    {
      "cell_type": "markdown",
      "source": [
        "# 2D CNN"
      ],
      "metadata": {
        "id": "aL18nvsThsBo"
      }
    },
    {
      "cell_type": "markdown",
      "source": [
        "## Segment Labeling"
      ],
      "metadata": {
        "id": "1gFfsPAVZdVn"
      }
    },
    {
      "cell_type": "code",
      "source": [
        "# Create segments and labels\n",
        "segments = []\n",
        "labels = []\n",
        "\n",
        "for i in range(0, len(strain) - int(window_size * fs), int(window_size * fs)):\n",
        "    segment = strain[i:i + int(window_size * fs)]\n",
        "    segments.append(segment.value)\n",
        "\n",
        "    # Label based on event presence\n",
        "    if (segment.times.value[0] <= event_time <= segment.times.value[-1]):\n",
        "        labels.append(1)  # Event present\n",
        "    else:\n",
        "        labels.append(0)  # No event\n",
        "\n",
        "# Convert to numpy arrays\n",
        "segments = np.array(segments)\n",
        "labels = np.array(labels)\n",
        "\n",
        "print(f\"Segments shape: {segments.shape}\")\n",
        "print(f\"Labels shape: {labels.shape}\")\n",
        "\n",
        "# Verify segments and labels\n",
        "print(\"First few segments:\")\n",
        "print(segments[:2])\n"
      ],
      "metadata": {
        "id": "ltYtG_vPojJ5"
      },
      "execution_count": null,
      "outputs": []
    },
    {
      "cell_type": "markdown",
      "source": [
        "## Data Preparation (spectrograms)"
      ],
      "metadata": {
        "id": "LNqRVKdYilIp"
      }
    },
    {
      "cell_type": "code",
      "source": [
        "# Generate spectrograms for each segment\n",
        "def generate_spectrogram(segment, sample_rate):\n",
        "    try:\n",
        "        f, t, Sxx = spectrogram(segment, sample_rate)\n",
        "        return Sxx\n",
        "    except Exception as e:\n",
        "        print(f\"An error occurred: {e}\")\n",
        "        return []\n",
        "\n",
        "spectrograms = np.array([generate_spectrogram(segment, fs) for segment in segments])\n",
        "print(f\"Spectrograms shape: {spectrograms.shape}\")\n",
        "\n",
        "# Reshape spectrograms for 2D CNN\n",
        "spectrograms = spectrograms[..., np.newaxis]  # Add a channel dimension\n",
        "print(f\"Reshaped spectrograms shape: {spectrograms.shape}\")"
      ],
      "metadata": {
        "colab": {
          "base_uri": "https://localhost:8080/"
        },
        "id": "6yuzkBn-GI43",
        "outputId": "68f24418-bbbf-4ba5-a23d-e5a750ec6004"
      },
      "execution_count": null,
      "outputs": [
        {
          "output_type": "stream",
          "name": "stdout",
          "text": [
            "Spectrograms shape: (2047, 129, 36)\n",
            "Reshaped spectrograms shape: (2047, 129, 36, 1)\n"
          ]
        }
      ]
    },
    {
      "cell_type": "code",
      "source": [
        "# Split the data into training and test sets\n",
        "X_train, X_test, y_train, y_test = train_test_split(spectrograms, labels, test_size=0.2, random_state=42)\n"
      ],
      "metadata": {
        "id": "1aF3O-DaKblq"
      },
      "execution_count": null,
      "outputs": []
    },
    {
      "cell_type": "markdown",
      "source": [
        "## Data Augmentation"
      ],
      "metadata": {
        "id": "rcG9dOpVh0rD"
      }
    },
    {
      "cell_type": "code",
      "source": [
        "def augment_data(data, labels):\n",
        "    try:\n",
        "        augmented_data = []\n",
        "        augmented_labels = []\n",
        "        for d, l in zip(data, labels):\n",
        "            augmented_data.append(d)\n",
        "            augmented_labels.append(l)\n",
        "            augmented_data.append(np.flip(d, axis=0))\n",
        "            augmented_labels.append(l)\n",
        "            noise = np.random.normal(0, 0.1, d.shape)\n",
        "            augmented_data.append(d + noise)\n",
        "            augmented_labels.append(l)\n",
        "        return np.array(augmented_data), np.array(augmented_labels)\n",
        "    except Exception as e:\n",
        "        print(f\"An error occurred: {e}\")\n",
        "        return []\n",
        "\n",
        "X_train_aug, y_train_aug = augment_data(X_train, y_train)\n",
        "\n",
        "print(f\"Original training data shape: {X_train.shape}\")\n",
        "print(f\"Augmented training data shape: {X_train_aug.shape}\")\n"
      ],
      "metadata": {
        "colab": {
          "base_uri": "https://localhost:8080/"
        },
        "outputId": "bd22032e-0d31-406b-8e79-17f1aecfe6fb",
        "id": "oCv8EJEph0rD"
      },
      "execution_count": null,
      "outputs": [
        {
          "output_type": "stream",
          "name": "stdout",
          "text": [
            "Original training data shape: (1637, 129, 36, 1)\n",
            "Augmented training data shape: (4911, 129, 36, 1)\n"
          ]
        }
      ]
    },
    {
      "cell_type": "markdown",
      "source": [
        "## Model Training & Evaluation with Augmented Data"
      ],
      "metadata": {
        "id": "Arp5fvieh0rE"
      }
    },
    {
      "cell_type": "code",
      "source": [
        "# Build the Autoencoder model\n",
        "\n",
        "# Encoder\n",
        "encoder = Sequential([\n",
        "    Conv2D(filters=16, kernel_size=(3, 3), activation='relu', padding='same', input_shape=(spectrograms.shape[1], spectrograms.shape[2], 1)),\n",
        "    MaxPooling2D(pool_size=(2, 2), padding='same'),\n",
        "    Conv2D(filters=32, kernel_size=(3, 3), activation='relu', padding='same'),\n",
        "    MaxPooling2D(pool_size=(2, 2), padding='same'),\n",
        "    Conv2D(filters=64, kernel_size=(3, 3), activation='relu', padding='same'),\n",
        "    MaxPooling2D(pool_size=(2, 2), padding='same')\n",
        "])\n",
        "\n",
        "# Bottleneck\n",
        "bottleneck = Sequential([\n",
        "    Flatten(),\n",
        "    Dense(256, activation='relu')\n",
        "])\n",
        "\n",
        "# Decoder\n",
        "decoder = Sequential([\n",
        "    Dense(64 * (spectrograms.shape[1] // 8) * (spectrograms.shape[2] // 8), activation='relu', input_shape=(256,)),\n",
        "    Reshape(((spectrograms.shape[1] // 8), (spectrograms.shape[2] // 8), 64)),\n",
        "    UpSampling2D(size=(2, 2)),\n",
        "    Conv2D(filters=32, kernel_size=(3, 3), activation='relu', padding='same'),\n",
        "    UpSampling2D(size=(2, 2)),\n",
        "    Conv2D(filters=16, kernel_size=(3, 3), activation='relu', padding='same'),\n",
        "    UpSampling2D(size=(2, 2)),\n",
        "    Conv2D(filters=1, kernel_size=(3, 3), activation='sigmoid', padding='same')\n",
        "])\n",
        "\n",
        "# Combine Encoder, Bottleneck, and Decoder to form the Autoencoder\n",
        "autoencoder = Sequential([encoder, bottleneck, decoder])\n",
        "\n",
        "# Compile the Autoencoder\n",
        "model.compile(optimizer='adam', loss='mse', metrics=['accuracy'])\n",
        "\n",
        "# Train the Autoencoder\n",
        "history = model.fit(X_train_aug, y_train_aug, epochs=10, batch_size=256, validation_data=(X_test, y_test))\n",
        "\n",
        "# Evaluate the model\n",
        "loss, accuracy = model.evaluate(X_test, y_test)\n",
        "print(f\"Test Loss: {loss}, Test Accuracy: {accuracy}\")\n",
        "\n",
        "# Plot training history\n",
        "plt.figure(figsize=(12, 4))\n",
        "plt.subplot(1, 2, 1)\n",
        "plt.plot(history.history['loss'], label='Loss')\n",
        "plt.plot(history.history['val_loss'], label='Val Loss')\n",
        "plt.xlabel('Epoch')\n",
        "plt.ylabel('Loss')\n",
        "plt.legend()\n",
        "plt.title('Training and Validation Loss')\n",
        "\n",
        "plt.subplot(1, 2, 2)\n",
        "plt.plot(history.history['accuracy'], label='Accuracy')\n",
        "plt.plot(history.history['val_accuracy'], label='Val Accuracy')\n",
        "plt.xlabel('Epoch')\n",
        "plt.ylabel('Accuracy')\n",
        "plt.legend()\n",
        "plt.title('Training and Validation Accuracy')\n",
        "\n",
        "plt.show()\n"
      ],
      "metadata": {
        "colab": {
          "base_uri": "https://localhost:8080/",
          "height": 855
        },
        "outputId": "f81eb048-6694-4b48-d06b-89787b1fbdc3",
        "id": "WYrX1L38h0rF"
      },
      "execution_count": null,
      "outputs": [
        {
          "output_type": "stream",
          "name": "stdout",
          "text": [
            "Epoch 1/10\n"
          ]
        },
        {
          "output_type": "error",
          "ename": "ValueError",
          "evalue": "in user code:\n\n    File \"/usr/local/lib/python3.10/dist-packages/keras/src/engine/training.py\", line 1401, in train_function  *\n        return step_function(self, iterator)\n    File \"/usr/local/lib/python3.10/dist-packages/keras/src/engine/training.py\", line 1384, in step_function  **\n        outputs = model.distribute_strategy.run(run_step, args=(data,))\n    File \"/usr/local/lib/python3.10/dist-packages/keras/src/engine/training.py\", line 1373, in run_step  **\n        outputs = model.train_step(data)\n    File \"/usr/local/lib/python3.10/dist-packages/keras/src/engine/training.py\", line 1150, in train_step\n        y_pred = self(x, training=True)\n    File \"/usr/local/lib/python3.10/dist-packages/keras/src/utils/traceback_utils.py\", line 70, in error_handler\n        raise e.with_traceback(filtered_tb) from None\n    File \"/usr/local/lib/python3.10/dist-packages/keras/src/engine/input_spec.py\", line 298, in assert_input_compatibility\n        raise ValueError(\n\n    ValueError: Input 0 of layer \"sequential_13\" is incompatible with the layer: expected shape=(None, 8192, 1), found shape=(None, 129, 36, 1)\n",
          "traceback": [
            "\u001b[0;31m---------------------------------------------------------------------------\u001b[0m",
            "\u001b[0;31mValueError\u001b[0m                                Traceback (most recent call last)",
            "\u001b[0;32m<ipython-input-40-dd7ffe6c4981>\u001b[0m in \u001b[0;36m<cell line: 38>\u001b[0;34m()\u001b[0m\n\u001b[1;32m     36\u001b[0m \u001b[0;34m\u001b[0m\u001b[0m\n\u001b[1;32m     37\u001b[0m \u001b[0;31m# Train the Autoencoder\u001b[0m\u001b[0;34m\u001b[0m\u001b[0;34m\u001b[0m\u001b[0m\n\u001b[0;32m---> 38\u001b[0;31m \u001b[0mhistory\u001b[0m \u001b[0;34m=\u001b[0m \u001b[0mmodel\u001b[0m\u001b[0;34m.\u001b[0m\u001b[0mfit\u001b[0m\u001b[0;34m(\u001b[0m\u001b[0mX_train_aug\u001b[0m\u001b[0;34m,\u001b[0m \u001b[0my_train_aug\u001b[0m\u001b[0;34m,\u001b[0m \u001b[0mepochs\u001b[0m\u001b[0;34m=\u001b[0m\u001b[0;36m10\u001b[0m\u001b[0;34m,\u001b[0m \u001b[0mbatch_size\u001b[0m\u001b[0;34m=\u001b[0m\u001b[0;36m256\u001b[0m\u001b[0;34m,\u001b[0m \u001b[0mvalidation_data\u001b[0m\u001b[0;34m=\u001b[0m\u001b[0;34m(\u001b[0m\u001b[0mX_test\u001b[0m\u001b[0;34m,\u001b[0m \u001b[0my_test\u001b[0m\u001b[0;34m)\u001b[0m\u001b[0;34m)\u001b[0m\u001b[0;34m\u001b[0m\u001b[0;34m\u001b[0m\u001b[0m\n\u001b[0m\u001b[1;32m     39\u001b[0m \u001b[0;34m\u001b[0m\u001b[0m\n\u001b[1;32m     40\u001b[0m \u001b[0;31m# Evaluate the model\u001b[0m\u001b[0;34m\u001b[0m\u001b[0;34m\u001b[0m\u001b[0m\n",
            "\u001b[0;32m/usr/local/lib/python3.10/dist-packages/keras/src/utils/traceback_utils.py\u001b[0m in \u001b[0;36merror_handler\u001b[0;34m(*args, **kwargs)\u001b[0m\n\u001b[1;32m     68\u001b[0m             \u001b[0;31m# To get the full stack trace, call:\u001b[0m\u001b[0;34m\u001b[0m\u001b[0;34m\u001b[0m\u001b[0m\n\u001b[1;32m     69\u001b[0m             \u001b[0;31m# `tf.debugging.disable_traceback_filtering()`\u001b[0m\u001b[0;34m\u001b[0m\u001b[0;34m\u001b[0m\u001b[0m\n\u001b[0;32m---> 70\u001b[0;31m             \u001b[0;32mraise\u001b[0m \u001b[0me\u001b[0m\u001b[0;34m.\u001b[0m\u001b[0mwith_traceback\u001b[0m\u001b[0;34m(\u001b[0m\u001b[0mfiltered_tb\u001b[0m\u001b[0;34m)\u001b[0m \u001b[0;32mfrom\u001b[0m \u001b[0;32mNone\u001b[0m\u001b[0;34m\u001b[0m\u001b[0;34m\u001b[0m\u001b[0m\n\u001b[0m\u001b[1;32m     71\u001b[0m         \u001b[0;32mfinally\u001b[0m\u001b[0;34m:\u001b[0m\u001b[0;34m\u001b[0m\u001b[0;34m\u001b[0m\u001b[0m\n\u001b[1;32m     72\u001b[0m             \u001b[0;32mdel\u001b[0m \u001b[0mfiltered_tb\u001b[0m\u001b[0;34m\u001b[0m\u001b[0;34m\u001b[0m\u001b[0m\n",
            "\u001b[0;32m/usr/local/lib/python3.10/dist-packages/keras/src/engine/training.py\u001b[0m in \u001b[0;36mtf__train_function\u001b[0;34m(iterator)\u001b[0m\n\u001b[1;32m     13\u001b[0m                 \u001b[0;32mtry\u001b[0m\u001b[0;34m:\u001b[0m\u001b[0;34m\u001b[0m\u001b[0;34m\u001b[0m\u001b[0m\n\u001b[1;32m     14\u001b[0m                     \u001b[0mdo_return\u001b[0m \u001b[0;34m=\u001b[0m \u001b[0;32mTrue\u001b[0m\u001b[0;34m\u001b[0m\u001b[0;34m\u001b[0m\u001b[0m\n\u001b[0;32m---> 15\u001b[0;31m                     \u001b[0mretval_\u001b[0m \u001b[0;34m=\u001b[0m \u001b[0mag__\u001b[0m\u001b[0;34m.\u001b[0m\u001b[0mconverted_call\u001b[0m\u001b[0;34m(\u001b[0m\u001b[0mag__\u001b[0m\u001b[0;34m.\u001b[0m\u001b[0mld\u001b[0m\u001b[0;34m(\u001b[0m\u001b[0mstep_function\u001b[0m\u001b[0;34m)\u001b[0m\u001b[0;34m,\u001b[0m \u001b[0;34m(\u001b[0m\u001b[0mag__\u001b[0m\u001b[0;34m.\u001b[0m\u001b[0mld\u001b[0m\u001b[0;34m(\u001b[0m\u001b[0mself\u001b[0m\u001b[0;34m)\u001b[0m\u001b[0;34m,\u001b[0m \u001b[0mag__\u001b[0m\u001b[0;34m.\u001b[0m\u001b[0mld\u001b[0m\u001b[0;34m(\u001b[0m\u001b[0miterator\u001b[0m\u001b[0;34m)\u001b[0m\u001b[0;34m)\u001b[0m\u001b[0;34m,\u001b[0m \u001b[0;32mNone\u001b[0m\u001b[0;34m,\u001b[0m \u001b[0mfscope\u001b[0m\u001b[0;34m)\u001b[0m\u001b[0;34m\u001b[0m\u001b[0;34m\u001b[0m\u001b[0m\n\u001b[0m\u001b[1;32m     16\u001b[0m                 \u001b[0;32mexcept\u001b[0m\u001b[0;34m:\u001b[0m\u001b[0;34m\u001b[0m\u001b[0;34m\u001b[0m\u001b[0m\n\u001b[1;32m     17\u001b[0m                     \u001b[0mdo_return\u001b[0m \u001b[0;34m=\u001b[0m \u001b[0;32mFalse\u001b[0m\u001b[0;34m\u001b[0m\u001b[0;34m\u001b[0m\u001b[0m\n",
            "\u001b[0;31mValueError\u001b[0m: in user code:\n\n    File \"/usr/local/lib/python3.10/dist-packages/keras/src/engine/training.py\", line 1401, in train_function  *\n        return step_function(self, iterator)\n    File \"/usr/local/lib/python3.10/dist-packages/keras/src/engine/training.py\", line 1384, in step_function  **\n        outputs = model.distribute_strategy.run(run_step, args=(data,))\n    File \"/usr/local/lib/python3.10/dist-packages/keras/src/engine/training.py\", line 1373, in run_step  **\n        outputs = model.train_step(data)\n    File \"/usr/local/lib/python3.10/dist-packages/keras/src/engine/training.py\", line 1150, in train_step\n        y_pred = self(x, training=True)\n    File \"/usr/local/lib/python3.10/dist-packages/keras/src/utils/traceback_utils.py\", line 70, in error_handler\n        raise e.with_traceback(filtered_tb) from None\n    File \"/usr/local/lib/python3.10/dist-packages/keras/src/engine/input_spec.py\", line 298, in assert_input_compatibility\n        raise ValueError(\n\n    ValueError: Input 0 of layer \"sequential_13\" is incompatible with the layer: expected shape=(None, 8192, 1), found shape=(None, 129, 36, 1)\n"
          ]
        }
      ]
    },
    {
      "cell_type": "markdown",
      "source": [
        "## Final Product"
      ],
      "metadata": {
        "id": "kCELXDbBh0rF"
      }
    },
    {
      "cell_type": "code",
      "source": [
        "# Save the model (look in the left panel)\n",
        "model.save('gw_2d_cnn_autoencoder.h5')\n",
        "\n",
        "# Load the model (for verification)\n",
        "loaded_model = tf.keras.models.load_model('gw_2d_cnn_autoencoder.h5')\n",
        "\n",
        "# Verify the loaded model by evaluating it on the test set\n",
        "loaded_loss, loaded_accuracy = loaded_model.evaluate(X_test, y_test)\n",
        "print(f\"Loaded Model Test Loss: {loaded_loss}, Loaded Model Test Accuracy: {loaded_accuracy}\")\n"
      ],
      "metadata": {
        "id": "ozOL87Feh0rF"
      },
      "execution_count": null,
      "outputs": []
    },
    {
      "cell_type": "code",
      "source": [],
      "metadata": {
        "id": "Z9NvVGGAKoW6"
      },
      "execution_count": null,
      "outputs": []
    }
  ]
}