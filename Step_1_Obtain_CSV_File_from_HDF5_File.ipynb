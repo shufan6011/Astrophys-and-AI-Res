{
  "nbformat": 4,
  "nbformat_minor": 0,
  "metadata": {
    "colab": {
      "provenance": [],
      "toc_visible": true,
      "authorship_tag": "ABX9TyM8INy0Uc/Y9IhvVYsFzOmK",
      "include_colab_link": true
    },
    "kernelspec": {
      "name": "python3",
      "display_name": "Python 3"
    },
    "language_info": {
      "name": "python"
    }
  },
  "cells": [
    {
      "cell_type": "markdown",
      "metadata": {
        "id": "view-in-github",
        "colab_type": "text"
      },
      "source": [
        "<a href=\"https://colab.research.google.com/github/shufan6011/GW-Event-Detection/blob/main/Step_1_Obtain_CSV_File_from_HDF5_File.ipynb\" target=\"_parent\"><img src=\"https://colab.research.google.com/assets/colab-badge.svg\" alt=\"Open In Colab\"/></a>"
      ]
    },
    {
      "cell_type": "code",
      "source": [
        "# Update:\n",
        "# I later found a much more convenient way than this method\n",
        "# Step 1 isn't required anymore\n"
      ],
      "metadata": {
        "id": "29vD-ETlioc1"
      },
      "execution_count": null,
      "outputs": []
    },
    {
      "cell_type": "code",
      "source": [
        "from google.colab import drive\n",
        "drive.mount('/content/gdrive')\n",
        "\n",
        "import h5py\n",
        "import pandas as pd\n",
        "import numpy as np\n",
        "\n",
        "import warnings\n",
        "warnings.filterwarnings('ignore')\n"
      ],
      "metadata": {
        "id": "E6xW7CH6Edy0",
        "colab": {
          "base_uri": "https://localhost:8080/"
        },
        "outputId": "baae86ba-ae4c-48b6-88b0-b36d14a82a99"
      },
      "execution_count": null,
      "outputs": [
        {
          "output_type": "stream",
          "name": "stdout",
          "text": [
            "Mounted at /content/gdrive\n"
          ]
        }
      ]
    },
    {
      "cell_type": "code",
      "execution_count": null,
      "metadata": {
        "id": "d0LpgJOaQABl"
      },
      "outputs": [],
      "source": [
        "# First go to this web: https://gwosc.org/data/\n"
      ]
    },
    {
      "cell_type": "code",
      "source": [
        "# Choose a data release or event\n"
      ],
      "metadata": {
        "id": "OpKzhN8ND_EH"
      },
      "execution_count": null,
      "outputs": []
    },
    {
      "cell_type": "code",
      "source": [
        "# Download data in hdf5 format\n"
      ],
      "metadata": {
        "id": "m3bjgoFUEJxu"
      },
      "execution_count": null,
      "outputs": []
    },
    {
      "cell_type": "code",
      "source": [
        "# Open hdf5 file\n",
        "file_path = '' # Replace this\n",
        "hdf = h5py.File(file_path, 'r')\n",
        "\n",
        "# Print structure of file\n",
        "# 'strain' is a crucial dataset\n",
        "def print_structure(name, obj):\n",
        "    print(name)\n",
        "\n",
        "hdf.visititems(print_structure)\n"
      ],
      "metadata": {
        "id": "J0TgEqb8Gj9n",
        "colab": {
          "base_uri": "https://localhost:8080/"
        },
        "outputId": "94f1e9e3-c0b4-4023-d364-63286d6b9b56"
      },
      "execution_count": null,
      "outputs": [
        {
          "output_type": "stream",
          "name": "stdout",
          "text": [
            "meta\n",
            "meta/Description\n",
            "meta/DescriptionURL\n",
            "meta/Detector\n",
            "meta/Duration\n",
            "meta/FrameType\n",
            "meta/GPSstart\n",
            "meta/Observatory\n",
            "meta/StrainChannel\n",
            "meta/Type\n",
            "meta/UTCstart\n",
            "quality\n",
            "quality/detail\n",
            "quality/injections\n",
            "quality/injections/GWOSCmeta\n",
            "quality/injections/InjDescriptions\n",
            "quality/injections/InjShortnames\n",
            "quality/injections/Injmask\n",
            "quality/simple\n",
            "quality/simple/DQDescriptions\n",
            "quality/simple/DQShortnames\n",
            "quality/simple/DQmask\n",
            "quality/simple/GWOSCmeta\n",
            "strain\n",
            "strain/GWOSCmeta\n",
            "strain/Strain\n"
          ]
        }
      ]
    },
    {
      "cell_type": "code",
      "source": [
        "# Open hdf5 file\n",
        "with h5py.File(file_path, 'r') as hdf:\n",
        "    # Extract strain data\n",
        "    strain_data = hdf['strain/Strain'][:]\n",
        "\n",
        "    # Extract metadata\n",
        "    gps_start = hdf['meta/GPSstart'][()]\n",
        "\n",
        "    # Generate time data based on GPS start and duration\n",
        "    fs = 4096  # Replace with sampling rate (Hz)\n",
        "    time_data = np.arange(len(strain_data)) / fs + gps_start\n",
        "\n",
        "# Combine strain data with time data (if more are needed, add it to ls)\n",
        "strain_df = pd.DataFrame({\n",
        "    'time': time_data,\n",
        "    'strain': strain_data\n",
        "})\n",
        "\n",
        "# Save df to csv file\n",
        "combined_csv_file_path = 'output_file.csv'\n",
        "strain_df.to_csv(combined_csv_file_path, index=False)\n"
      ],
      "metadata": {
        "id": "H1VnoiXSmcVw"
      },
      "execution_count": null,
      "outputs": []
    }
  ]
}