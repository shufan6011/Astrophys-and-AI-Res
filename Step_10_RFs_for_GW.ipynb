{
  "nbformat": 4,
  "nbformat_minor": 0,
  "metadata": {
    "colab": {
      "provenance": [],
      "toc_visible": true,
      "gpuType": "T4",
      "collapsed_sections": [
        "st3QjZwnPSs8",
        "o9GWFMK9PBtx",
        "VZjAUoRqft9_",
        "qrpSAW3aPNzk",
        "6KCnD61PQR7r",
        "J1D3pM8MNi2N",
        "LNqRVKdYilIp",
        "JrEtLCfYiW-K",
        "UtFOkh04eBvA",
        "NaOSgzTgkly3",
        "SUiygYr9wXcT",
        "laI0KcJ6kskp"
      ],
      "authorship_tag": "ABX9TyMEfNa4E/qEZ/iytimWLGaH",
      "include_colab_link": true
    },
    "kernelspec": {
      "name": "python3",
      "display_name": "Python 3"
    },
    "language_info": {
      "name": "python"
    },
    "accelerator": "GPU"
  },
  "cells": [
    {
      "cell_type": "markdown",
      "metadata": {
        "id": "view-in-github",
        "colab_type": "text"
      },
      "source": [
        "<a href=\"https://colab.research.google.com/github/shufan6011/Astrophys-and-AI-Res/blob/main/Step_10_RFs_for_GW.ipynb\" target=\"_parent\"><img src=\"https://colab.research.google.com/assets/colab-badge.svg\" alt=\"Open In Colab\"/></a>"
      ]
    },
    {
      "cell_type": "code",
      "source": [
        "# Update:\n",
        "# Use GPU instead of CPU for faster model training"
      ],
      "metadata": {
        "id": "DRV2KeFQyHFa"
      },
      "execution_count": null,
      "outputs": []
    },
    {
      "cell_type": "markdown",
      "source": [
        "# Data Preprocessing & functions"
      ],
      "metadata": {
        "id": "FzL41q-39psp"
      }
    },
    {
      "cell_type": "code",
      "execution_count": null,
      "metadata": {
        "id": "95dylknOM1YX"
      },
      "outputs": [],
      "source": [
        "import numpy as np\n",
        "import pandas as pd\n",
        "import requests, os\n",
        "import matplotlib.pyplot as plt\n",
        "from scipy.signal import butter, filtfilt\n",
        "from sklearn.preprocessing import StandardScaler\n",
        "from sklearn.ensemble import RandomForestClassifier\n",
        "from sklearn.metrics import classification_report, confusion_matrix, roc_curve, auc\n",
        "import joblib\n",
        "from sklearn.model_selection import train_test_split\n",
        "\n",
        "import warnings\n",
        "warnings.filterwarnings('ignore')\n"
      ]
    },
    {
      "cell_type": "code",
      "source": [
        "# Go to https://gwosc.org\n",
        "# Find info required below (GPS time & detector)\n"
      ],
      "metadata": {
        "id": "bzbKy-scjhEl"
      },
      "execution_count": null,
      "outputs": []
    },
    {
      "cell_type": "code",
      "execution_count": null,
      "metadata": {
        "id": "nOWxRKp9QYKj"
      },
      "outputs": [],
      "source": [
        "# Set GPS time:\n",
        "t_start = 1126259462.4\n",
        "t_end = 1126259462.4 # For specific events, make t_end the same as t_start\n",
        "\n",
        "# Choose detector (H1, L1, or V1)\n",
        "detector = 'H1'\n"
      ]
    },
    {
      "cell_type": "code",
      "execution_count": null,
      "metadata": {
        "id": "3q31hDw3QYKn",
        "outputId": "aed80c3e-3e33-4b78-8a6b-834272bbde08",
        "colab": {
          "base_uri": "https://localhost:8080/"
        }
      },
      "outputs": [
        {
          "output_type": "stream",
          "name": "stdout",
          "text": [
            "\u001b[2K     \u001b[90m━━━━━━━━━━━━━━━━━━━━━━━━━━━━━━━━━━━━━━━━\u001b[0m \u001b[32m1.4/1.4 MB\u001b[0m \u001b[31m7.2 MB/s\u001b[0m eta \u001b[36m0:00:00\u001b[0m\n",
            "\u001b[2K     \u001b[90m━━━━━━━━━━━━━━━━━━━━━━━━━━━━━━━━━━━━━━━━\u001b[0m \u001b[32m295.0/295.0 kB\u001b[0m \u001b[31m11.4 MB/s\u001b[0m eta \u001b[36m0:00:00\u001b[0m\n",
            "\u001b[2K     \u001b[90m━━━━━━━━━━━━━━━━━━━━━━━━━━━━━━━━━━━━━━━━\u001b[0m \u001b[32m45.5/45.5 kB\u001b[0m \u001b[31m2.3 MB/s\u001b[0m eta \u001b[36m0:00:00\u001b[0m\n",
            "\u001b[2K     \u001b[90m━━━━━━━━━━━━━━━━━━━━━━━━━━━━━━━━━━━━━━━━\u001b[0m \u001b[32m51.0/51.0 kB\u001b[0m \u001b[31m2.7 MB/s\u001b[0m eta \u001b[36m0:00:00\u001b[0m\n",
            "\u001b[?25h  Preparing metadata (setup.py) ... \u001b[?25l\u001b[?25hdone\n",
            "  Building wheel for ligo-segments (setup.py) ... \u001b[?25l\u001b[?25hdone\n",
            "\u001b[2K     \u001b[90m━━━━━━━━━━━━━━━━━━━━━━━━━━━━━━━━━━━━━━━━\u001b[0m \u001b[32m8.3/8.3 MB\u001b[0m \u001b[31m30.3 MB/s\u001b[0m eta \u001b[36m0:00:00\u001b[0m\n",
            "\u001b[2K     \u001b[90m━━━━━━━━━━━━━━━━━━━━━━━━━━━━━━━━━━━━━━━━\u001b[0m \u001b[32m9.9/9.9 MB\u001b[0m \u001b[31m21.5 MB/s\u001b[0m eta \u001b[36m0:00:00\u001b[0m\n",
            "\u001b[2K     \u001b[90m━━━━━━━━━━━━━━━━━━━━━━━━━━━━━━━━━━━━━━━━\u001b[0m \u001b[32m1.9/1.9 MB\u001b[0m \u001b[31m52.8 MB/s\u001b[0m eta \u001b[36m0:00:00\u001b[0m\n",
            "\u001b[?25h"
          ]
        }
      ],
      "source": [
        "%config InlineBackend.figure_format = 'retina'\n",
        "\n",
        "try:\n",
        "    from gwpy.timeseries import TimeSeries\n",
        "except:\n",
        "    ! pip install -q \"gwpy==3.0.8\"\n",
        "    ! pip install -q \"matplotlib==3.9.0\"\n",
        "    ! pip install -q \"astropy==6.1.0\"\n",
        "    from gwpy.timeseries import TimeSeries\n"
      ]
    },
    {
      "cell_type": "code",
      "execution_count": null,
      "metadata": {
        "id": "AhembQ-1QYKo",
        "outputId": "8d5d3580-2f3a-4b55-c9be-0b6108970710",
        "colab": {
          "base_uri": "https://localhost:8080/"
        }
      },
      "outputs": [
        {
          "output_type": "stream",
          "name": "stdout",
          "text": [
            "Downloading:  http://gwosc.org/eventapi/json/GWTC-1-confident/GW150914/v3/H-H1_GWOSC_4KHZ_R1-1126257415-4096.hdf5\n"
          ]
        }
      ],
      "source": [
        "from gwosc.locate import get_urls\n",
        "url = get_urls(detector, t_start, t_end)[-1]\n",
        "\n",
        "# If an event is chosen, then its info will be shown in url\n",
        "print('Downloading: ' , url)\n",
        "fn = os.path.basename(url)\n",
        "with open(fn,'wb') as strainfile:\n",
        "    straindata = requests.get(url)\n",
        "    strainfile.write(straindata.content)\n"
      ]
    },
    {
      "cell_type": "code",
      "execution_count": null,
      "metadata": {
        "id": "8WB3QLymQYKq"
      },
      "outputs": [],
      "source": [
        "# Read strain data\n",
        "strain = TimeSeries.read(fn,format='hdf5.gwosc')\n",
        "\n",
        "# Examine an interval closely\n",
        "# center = int(t_start)\n",
        "# strain = strain.crop(center-0.2, center+0.1)\n",
        "\n",
        "# Extract time and strain vals\n",
        "timestamps = strain.times.value\n",
        "strain_values = strain.value\n",
        "\n",
        "# Store data in pd df\n",
        "data = pd.DataFrame({\n",
        "    'time': timestamps,\n",
        "    'strain': strain_values\n",
        "})\n"
      ]
    },
    {
      "cell_type": "markdown",
      "source": [
        "## Handling Missing Values"
      ],
      "metadata": {
        "id": "st3QjZwnPSs8"
      }
    },
    {
      "cell_type": "code",
      "source": [
        "# Drop rows with missing vals\n",
        "data = data.dropna()\n",
        "\n",
        "print(\"\\nMissing vals after cleaning:\")\n",
        "print(data.isnull().sum())\n"
      ],
      "metadata": {
        "id": "qgcP-cYXNKzz",
        "outputId": "c90b3a6f-8cb0-450b-b122-6468914ce4d0",
        "colab": {
          "base_uri": "https://localhost:8080/"
        }
      },
      "execution_count": null,
      "outputs": [
        {
          "output_type": "stream",
          "name": "stdout",
          "text": [
            "\n",
            "Missing vals after cleaning:\n",
            "time      0\n",
            "strain    0\n",
            "dtype: int64\n"
          ]
        }
      ]
    },
    {
      "cell_type": "markdown",
      "source": [
        "## Data Noise Filtering"
      ],
      "metadata": {
        "id": "o9GWFMK9PBtx"
      }
    },
    {
      "cell_type": "code",
      "source": [
        "# Band-pass filter function\n",
        "def butter_bandpass(lowcut, highcut, fs, order=5):\n",
        "    nyq = 0.5 * fs\n",
        "    low = lowcut / nyq\n",
        "    high = highcut / nyq\n",
        "    b, a = butter(order, [low, high], btype='band')\n",
        "    return b, a\n",
        "\n",
        "def bandpass_filter(data, lowcut, highcut, fs, order=5):\n",
        "    b, a = butter_bandpass(lowcut, highcut, fs, order=order)\n",
        "    y = filtfilt(b, a, data)\n",
        "    return y\n",
        "\n",
        "# Filter params\n",
        "lowcut = 20  # Low cutoff frequency (Hz)\n",
        "highcut = 500  # High cutoff frequency (Hz)\n",
        "\n",
        "# Band-pass filter strain data\n",
        "data['strain'] = bandpass_filter(data['strain'], lowcut, highcut, 4096)\n"
      ],
      "metadata": {
        "id": "zQOeTtFfNkDb"
      },
      "execution_count": null,
      "outputs": []
    },
    {
      "cell_type": "markdown",
      "source": [
        "## Data Normalization"
      ],
      "metadata": {
        "id": "VZjAUoRqft9_"
      }
    },
    {
      "cell_type": "code",
      "source": [
        "# Normalize strain data\n",
        "scaler = StandardScaler()\n",
        "data['strain'] = scaler.fit_transform(data[['strain']])\n"
      ],
      "metadata": {
        "id": "OTmnUun1fwK5"
      },
      "execution_count": null,
      "outputs": []
    },
    {
      "cell_type": "markdown",
      "source": [
        "## Data Inspection"
      ],
      "metadata": {
        "id": "qrpSAW3aPNzk"
      }
    },
    {
      "cell_type": "code",
      "source": [
        "# Inspect first few rows\n",
        "print(\"First few rows of data:\")\n",
        "print(data.head())\n",
        "\n",
        "# Inspect col headers\n",
        "print(\"\\nCol headers:\")\n",
        "print(data.columns)\n",
        "\n",
        "# Summary stats\n",
        "print(\"\\nSummary stats:\")\n",
        "print(data.describe())\n",
        "\n",
        "# Check for missing vals\n",
        "print(\"\\nMissing vals in each col:\")\n",
        "print(data.isnull().sum())\n",
        "\n",
        "# Check sampling frequency\n",
        "print(f\"\\nSampling frequency: {strain.sample_rate} Hz\")\n",
        "fs = 4096 # Change this if sampling frequency is different\n",
        "\n",
        "# Redef original strain w/ preprocessed data\n",
        "strain = TimeSeries(data['strain'].values, times=timestamps, sample_rate=fs)\n"
      ],
      "metadata": {
        "id": "QTyLuzDQJxfZ",
        "outputId": "63dc04a8-2a96-4e67-f44b-4575534c768d",
        "colab": {
          "base_uri": "https://localhost:8080/"
        }
      },
      "execution_count": null,
      "outputs": [
        {
          "output_type": "stream",
          "name": "stdout",
          "text": [
            "First few rows of data:\n",
            "           time    strain\n",
            "0  1.126257e+09 -2.509170\n",
            "1  1.126257e+09  0.070279\n",
            "2  1.126257e+09  2.209691\n",
            "3  1.126257e+09  3.618610\n",
            "4  1.126257e+09  4.256309\n",
            "\n",
            "Col headers:\n",
            "Index(['time', 'strain'], dtype='object')\n",
            "\n",
            "Summary stats:\n",
            "               time        strain\n",
            "count  1.677722e+07  1.677722e+07\n",
            "mean   1.126259e+09 -1.758737e-17\n",
            "std    1.182413e+03  1.000000e+00\n",
            "min    1.126257e+09 -3.686864e+00\n",
            "25%    1.126258e+09 -7.088868e-01\n",
            "50%    1.126259e+09  1.167451e-03\n",
            "75%    1.126260e+09  7.087773e-01\n",
            "max    1.126262e+09  4.284804e+00\n",
            "\n",
            "Missing vals in each col:\n",
            "time      0\n",
            "strain    0\n",
            "dtype: int64\n",
            "\n",
            "Sampling frequency: 4096.0 Hz Hz\n"
          ]
        }
      ]
    },
    {
      "cell_type": "markdown",
      "source": [
        "## Data Augmentation"
      ],
      "metadata": {
        "id": "6KCnD61PQR7r"
      }
    },
    {
      "cell_type": "code",
      "source": [
        "def augment_data(data, labels):\n",
        "    augmented_data = []\n",
        "    augmented_labels = []\n",
        "    for d, l in zip(data, labels):\n",
        "        augmented_data.append(d)\n",
        "        augmented_labels.append(l)\n",
        "        augmented_data.append(np.flip(d, axis=0))\n",
        "        augmented_labels.append(l)\n",
        "        noise = np.random.normal(0, 0.1, d.shape)\n",
        "        augmented_data.append(d + noise)\n",
        "        augmented_labels.append(l)\n",
        "    return np.array(augmented_data), np.array(augmented_labels)\n"
      ],
      "metadata": {
        "id": "Zv2V10QPQR7s"
      },
      "execution_count": null,
      "outputs": []
    },
    {
      "cell_type": "markdown",
      "source": [
        "## Data Segmenting & Labeling"
      ],
      "metadata": {
        "id": "J1D3pM8MNi2N"
      }
    },
    {
      "cell_type": "code",
      "source": [
        "def create_segments_and_labels(strain, event_time, window_size, sample_rate):\n",
        "    # Resample strain to desired sample rate (if necessary)\n",
        "    strain = strain.resample(sample_rate)\n",
        "\n",
        "    # Def segments and labels ls\n",
        "    segments = []\n",
        "    labels = []\n",
        "\n",
        "    # Calc # of samples per segment\n",
        "    segment_length = int(window_size * sample_rate)\n",
        "\n",
        "    # Create segments and labels\n",
        "    for i in range(0, len(strain) - segment_length, segment_length):\n",
        "        segment = strain[i:i + segment_length]\n",
        "        segments.append(segment.value)\n",
        "\n",
        "        # Label based on event presence\n",
        "        if segment.times.value[0] <= event_time <= segment.times.value[-1]:\n",
        "            labels.append(1)  # Event present\n",
        "        else:\n",
        "            labels.append(0)  # No event\n",
        "\n",
        "    # Convert to np arrays\n",
        "    segments = np.array(segments)\n",
        "    labels = np.array(labels)\n",
        "\n",
        "    print(f\"Segments shape: {segments.shape}\")\n",
        "    print(f\"Labels shape: {labels.shape}\")\n",
        "\n",
        "    # Verify segments\n",
        "    print(\"First few segments:\")\n",
        "    print(segments[:2])\n",
        "\n",
        "    return segments, labels\n"
      ],
      "metadata": {
        "id": "ruyv57Y6Nkpt"
      },
      "execution_count": null,
      "outputs": []
    },
    {
      "cell_type": "markdown",
      "source": [
        "## Final Product"
      ],
      "metadata": {
        "id": "3ezqL03x6ldE"
      }
    },
    {
      "cell_type": "code",
      "source": [
        "def save_model(model_filename):\n",
        "    # Save model\n",
        "    joblib.dump(model, model_filename)\n",
        "    print(f\"Model saved as {model_filename}\")"
      ],
      "metadata": {
        "id": "tAjOIatC6pb7"
      },
      "execution_count": null,
      "outputs": []
    },
    {
      "cell_type": "markdown",
      "source": [
        "# RF"
      ],
      "metadata": {
        "id": "JrEtLCfYiW-K"
      }
    },
    {
      "cell_type": "markdown",
      "source": [
        "## Segments Labeling"
      ],
      "metadata": {
        "id": "X78R-aMP1HF1"
      }
    },
    {
      "cell_type": "code",
      "source": [
        "segments, labels = create_segments_and_labels(strain, t_start, 2, fs)\n"
      ],
      "metadata": {
        "id": "UB_XSCPy1FJc",
        "outputId": "f662b9b5-046b-465c-defd-2a7b5cc5c81b",
        "colab": {
          "base_uri": "https://localhost:8080/"
        }
      },
      "execution_count": null,
      "outputs": [
        {
          "output_type": "stream",
          "name": "stdout",
          "text": [
            "Segments shape: (2047, 8192)\n",
            "Labels shape: (2047,)\n",
            "First few segments:\n",
            "[[-2.50916966  0.0702791   2.20969137 ...  0.5505348\n",
            "   0.68438925  0.80870373]\n",
            " [ 0.77395483  0.49010925 -0.00384874 ...  0.42781003\n",
            "   0.39635154  0.19273885]]\n"
          ]
        }
      ]
    },
    {
      "cell_type": "markdown",
      "source": [
        "## Data Preparation (time-series data)"
      ],
      "metadata": {
        "id": "UtFOkh04eBvA"
      }
    },
    {
      "cell_type": "code",
      "source": [
        "# Split data into training and test sets\n",
        "X_train, X_test, y_train, y_test = train_test_split(segments, labels, test_size=0.2, random_state=42)"
      ],
      "metadata": {
        "id": "MqK55ujwKe5H"
      },
      "execution_count": null,
      "outputs": []
    },
    {
      "cell_type": "markdown",
      "source": [
        "## Data Augmentation"
      ],
      "metadata": {
        "id": "NaOSgzTgkly3"
      }
    },
    {
      "cell_type": "code",
      "source": [
        "X_train_aug, y_train_aug = augment_data(X_train, y_train)\n",
        "\n",
        "print(f\"Original training data shape: {X_train.shape}\")\n",
        "print(f\"Augmented training data shape: {X_train_aug.shape}\")\n"
      ],
      "metadata": {
        "id": "3us6ddy7koxh",
        "outputId": "80833632-c455-4706-bdc6-c0644010fed5",
        "colab": {
          "base_uri": "https://localhost:8080/"
        }
      },
      "execution_count": null,
      "outputs": [
        {
          "output_type": "stream",
          "name": "stdout",
          "text": [
            "Original training data shape: (1637, 8192)\n",
            "Augmented training data shape: (4911, 8192)\n"
          ]
        }
      ]
    },
    {
      "cell_type": "markdown",
      "source": [
        "## Model Training"
      ],
      "metadata": {
        "id": "SUiygYr9wXcT"
      }
    },
    {
      "cell_type": "code",
      "source": [
        "# Def rf\n",
        "model = RandomForestClassifier(n_estimators=100, random_state=42)\n",
        "\n",
        "# Train model\n",
        "model.fit(X_train, y_train)\n",
        "\n",
        "# Make pred\n",
        "y_pred = model.predict(X_test)\n",
        "\n",
        "# Evaluate model\n",
        "print(classification_report(y_test, y_pred))\n",
        "print(confusion_matrix(y_test, y_pred))\n"
      ],
      "metadata": {
        "id": "xb-akVQXwW_1",
        "outputId": "44560b8a-a304-4d89-d3fd-1f0435bc8d83",
        "colab": {
          "base_uri": "https://localhost:8080/"
        }
      },
      "execution_count": null,
      "outputs": [
        {
          "output_type": "stream",
          "name": "stdout",
          "text": [
            "Accuracy: 1.00\n",
            "              precision    recall  f1-score   support\n",
            "\n",
            "           0       1.00      1.00      1.00       410\n",
            "\n",
            "    accuracy                           1.00       410\n",
            "   macro avg       1.00      1.00      1.00       410\n",
            "weighted avg       1.00      1.00      1.00       410\n",
            "\n",
            "[[410]]\n"
          ]
        }
      ]
    },
    {
      "cell_type": "markdown",
      "source": [
        "## Model Evaluation"
      ],
      "metadata": {
        "id": "D6Ah37Ia_XZu"
      }
    },
    {
      "cell_type": "code",
      "source": [
        "# Compute ROC curve & area\n",
        "fpr, tpr, _ = roc_curve(y_test, y_pred)\n",
        "roc_auc = auc(fpr, tpr)\n",
        "\n",
        "# Plot result\n",
        "plt.figure()\n",
        "plt.plot(fpr, tpr, color='darkorange', lw=2, label='ROC curve (area = %0.2f)' % roc_auc)\n",
        "plt.plot([0, 1], [0, 1], color='navy', lw=2, linestyle='--')\n",
        "plt.xlim([0.0, 1.0])\n",
        "plt.ylim([0.0, 1.05])\n",
        "plt.xlabel('False Pos Rate')\n",
        "plt.ylabel('True Pos Rate')\n",
        "plt.title('Receiver Operating Characteristic')\n",
        "plt.legend(loc=\"lower right\")\n",
        "plt.show()\n"
      ],
      "metadata": {
        "colab": {
          "base_uri": "https://localhost:8080/",
          "height": 483
        },
        "id": "Vw0ulR9s_ZXt",
        "outputId": "c34947eb-78b2-491f-c6ee-bc7f4bb730d0"
      },
      "execution_count": null,
      "outputs": [
        {
          "output_type": "display_data",
          "data": {
            "text/plain": [
              "<Figure size 640x480 with 1 Axes>"
            ],
            "image/png": "[encoded data removed]"
          },
          "metadata": {
            "image/png": {
              "width": 592,
              "height": 466
            }
          }
        }
      ]
    },
    {
      "cell_type": "markdown",
      "source": [
        "## Final Product"
      ],
      "metadata": {
        "id": "laI0KcJ6kskp"
      }
    },
    {
      "cell_type": "code",
      "source": [
        "save_model('gw_rf.pkl')\n"
      ],
      "metadata": {
        "id": "BiCFbj8zkwLz",
        "outputId": "189b8fd3-ad88-4a25-81f3-61b210e0b2cc",
        "colab": {
          "base_uri": "https://localhost:8080/"
        }
      },
      "execution_count": null,
      "outputs": [
        {
          "output_type": "stream",
          "name": "stdout",
          "text": [
            "Model saved as gw_rf.pkl\n"
          ]
        }
      ]
    }
  ]
}